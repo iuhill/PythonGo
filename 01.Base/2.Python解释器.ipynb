{
 "cells": [
  {
   "cell_type": "markdown",
   "metadata": {},
   "source": [
    "Python是个解释型语言，因为不需要汇编、链接，可以节省大量时间。解释器读取编写好的代码，读一行，执行一行。这个特点可以很轻松的练习Python的各种功能、或者随手写个一次性程序(日抛型？)、又或者随时把一个函数(function)单拎出来进行测试。"
   ]
  },
  {
   "cell_type": "markdown",
   "metadata": {},
   "source": [
    "# 2.1 调用Python解释器#"
   ]
  },
  {
   "cell_type": "markdown",
   "metadata": {},
   "source": [
    "Python解释器通常安装在`\\urs\\local\\bin\\`目录下，你需要把这个目录添加到shell搜索路径中。（后面都以linux为目标系统，进行解释。）\n",
    "\n",
    "Windows系统下的话，你自己安装的Python，安装目录你应该有点B数才对。"
   ]
  },
  {
   "cell_type": "markdown",
   "metadata": {},
   "source": [
    "如此，你就可以在shell中，运行输入如下命令后回车，进入python交互环境：`python`\n",
    "\n",
    "或者可以直接执行带参数的python命令，`python -c command [arg] ...`\n",
    "\n",
    "或者像脚本一样，运行一个python模块，`python -m module [arg] ...`"
   ]
  },
  {
   "cell_type": "markdown",
   "metadata": {},
   "source": [
    "退出python环境的命令为：\n",
    "`quit()`或者直接键盘`Control-D`"
   ]
  },
  {
   "cell_type": "markdown",
   "metadata": {},
   "source": [
    "## 2.1.1 参数传递"
   ]
  },
  {
   "cell_type": "markdown",
   "metadata": {},
   "source": [
    "在shell命令行，像运行脚本一样，运行python模块或命令，`python`命令后面跟的文件名、参数会被转化成字符串列表，保存在`sys`模块的`argv`变量中。"
   ]
  },
  {
   "cell_type": "code",
   "execution_count": null,
   "metadata": {},
   "outputs": [],
   "source": [
    "#查看sys模块中argv的内容\n",
    "import sys\n",
    "print(sys.argv)"
   ]
  },
  {
   "cell_type": "markdown",
   "metadata": {},
   "source": [
    "## 2.1.2 交互模式"
   ]
  },
  {
   "cell_type": "markdown",
   "metadata": {},
   "source": [
    "进入python交互环境后，通常有(`>>>`)提示符。 如果出现多行命令，会有(`...`)提示符。"
   ]
  },
  {
   "cell_type": "markdown",
   "metadata": {},
   "source": [
    "# 2.2 Python解释器和解释器环境"
   ]
  },
  {
   "cell_type": "markdown",
   "metadata": {},
   "source": [
    "## 2.1.1 源码文件编码\n",
    "默认源码文件使用UTF-8进行编码，标准库只使用ASCII字符作为标识符。\n",
    "如果非要使用其他编码方式进行源码文件编码，需要遵循如下语法，并将其放在源码文件第一行：\n",
    "`# -*- coding:encoding -*-`"
   ]
  },
  {
   "cell_type": "code",
   "execution_count": 7,
   "metadata": {},
   "outputs": [],
   "source": [
    "#比如，要用GB2312进行编码\n",
    "# -*- coding: GB2312 -*-"
   ]
  }
 ],
 "metadata": {
  "kernelspec": {
   "display_name": "Python 3",
   "language": "python",
   "name": "python3"
  },
  "language_info": {
   "codemirror_mode": {
    "name": "ipython",
    "version": 3
   },
   "file_extension": ".py",
   "mimetype": "text/x-python",
   "name": "python",
   "nbconvert_exporter": "python",
   "pygments_lexer": "ipython3",
   "version": "3.6.4"
  }
 },
 "nbformat": 4,
 "nbformat_minor": 2
}
