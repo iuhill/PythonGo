{
 "cells": [
  {
   "cell_type": "markdown",
   "metadata": {},
   "source": [
    "*工作要用Python，网上找了一堆中文资料，对我这个半路出家的ITer来说，讲的不是太深，就是太浅。*\n",
    "\n",
    "*发现Python官方文档中，Tutorial比较适合我用，索性就给翻译了。*\n",
    "\n",
    "**水平有限，欢迎指正**"
   ]
  },
  {
   "cell_type": "markdown",
   "metadata": {},
   "source": [
    "Python是编程语言界的瑞士军刀，简洁易用，功能丰富。如果你工作中经常使用计算机，那Python可谓老少咸宜。(这句是我自己加的)\n",
    "任务自动化、文档内容操作、文件操作，或者写个小数据库、小游戏、专业GUI程序什么的，Python都可以胜任。\n",
    "\n",
    "或者，你是C/C++/JAVA专业开发人员，呃....算了这段不译了。总之是说，Python虽然运行不是特别快，但其他方面还是很有两把刷子的，尤其脱胎于科学计算，在数据分析、人工智能方面很牛X。\n",
    "\n",
    "最后，再提一句。“Phthon”这个名字，来自于BBC的一档节目“Monty Python’s Flying Circus”，和那条冷血爬行动物可没半毛钱关系。\n",
    "Python设计者——大牛龟叔，Guido van Rossum，似乎很喜欢Monty Python这档幽默剧节目。\n",
    "大牛都喜欢喜剧？！"
   ]
  },
  {
   "cell_type": "markdown",
   "metadata": {},
   "source": [
    "Life is short, I use Python."
   ]
  },
  {
   "cell_type": "code",
   "execution_count": null,
   "metadata": {},
   "outputs": [],
   "source": []
  }
 ],
 "metadata": {
  "kernelspec": {
   "display_name": "Python 3",
   "language": "python",
   "name": "python3"
  },
  "language_info": {
   "codemirror_mode": {
    "name": "ipython",
    "version": 3
   },
   "file_extension": ".py",
   "mimetype": "text/x-python",
   "name": "python",
   "nbconvert_exporter": "python",
   "pygments_lexer": "ipython3",
   "version": "3.6.4"
  }
 },
 "nbformat": 4,
 "nbformat_minor": 2
}
