{
 "cells": [
  {
   "cell_type": "markdown",
   "metadata": {},
   "source": [
    "# 5.1 [列表]"
   ]
  },
  {
   "cell_type": "markdown",
   "metadata": {},
   "source": [
    "列表方法：\n",
    "- list.append(x) ——在列表末尾，增加一个元素x，等价于`a[len(list):] = [x]`\n",
    "- list.extend(iterable) ——在列表最后，用一个iterable对象进行扩展，等价于`a[len(list):] = iterable`\n",
    "- list.insert(i, x) ——指定索引位置插入元素x\n",
    "- list.remove(x) ——删除第一个值为x的元素，如果此元素不存在，则报错\n",
    "- list.pop(\\[i\\]) ——删除指定索引位置的元素，并**返回该元素**，默认删除最后一个\n",
    "- list.clear() ——元素清空\n",
    "- list.index(x\\[, start[, end]]) ——返回指定范围[start, end]内指定元素x在整个列表第一次出现的位置索引\n",
    "- list.count(x) ——计算元素x出现的次数\n",
    "- list.sort(key=None, reverse=False) ——元素排序\n",
    "- list.reverse() ——元素逆序\n",
    "- list.copy() ——浅拷贝，等价于`a[:]`"
   ]
  },
  {
   "cell_type": "markdown",
   "metadata": {},
   "source": [
    "**注意** Python的一个设计原则是：可变数据结构对象的增删查改方法，如`insert、remove、sort方法`，会直接修改对象，并不会返回一个可打印值(返回值为None)。"
   ]
  },
  {
   "cell_type": "code",
   "execution_count": 12,
   "metadata": {},
   "outputs": [],
   "source": [
    "fruits = ['apple', 'banana', 'pear', 'orange', 'apple', 'banana', 'blabla']"
   ]
  },
  {
   "cell_type": "code",
   "execution_count": 13,
   "metadata": {},
   "outputs": [
    {
     "data": {
      "text/plain": [
       "2"
      ]
     },
     "execution_count": 13,
     "metadata": {},
     "output_type": "execute_result"
    }
   ],
   "source": [
    "fruits.count('apple')"
   ]
  },
  {
   "cell_type": "code",
   "execution_count": 14,
   "metadata": {},
   "outputs": [
    {
     "data": {
      "text/plain": [
       "4"
      ]
     },
     "execution_count": 14,
     "metadata": {},
     "output_type": "execute_result"
    }
   ],
   "source": [
    "fruits.index('apple',1,)"
   ]
  },
  {
   "cell_type": "code",
   "execution_count": 15,
   "metadata": {},
   "outputs": [
    {
     "data": {
      "text/plain": [
       "['blabla', 'banana', 'apple', 'orange', 'pear', 'banana', 'apple']"
      ]
     },
     "execution_count": 15,
     "metadata": {},
     "output_type": "execute_result"
    }
   ],
   "source": [
    "fruits.reverse()\n",
    "fruits"
   ]
  },
  {
   "cell_type": "code",
   "execution_count": 16,
   "metadata": {},
   "outputs": [],
   "source": [
    "fruits.append('tomato')"
   ]
  },
  {
   "cell_type": "code",
   "execution_count": 17,
   "metadata": {},
   "outputs": [
    {
     "data": {
      "text/plain": [
       "['apple', 'apple', 'banana', 'banana', 'blabla', 'orange', 'pear', 'tomato']"
      ]
     },
     "execution_count": 17,
     "metadata": {},
     "output_type": "execute_result"
    }
   ],
   "source": [
    "fruits.sort()\n",
    "fruits"
   ]
  },
  {
   "cell_type": "markdown",
   "metadata": {},
   "source": [
    "## 5.1.1 栈（别把List不当Stacks）\n",
    "栈的特点**后进先出**，使用列表方法`append()`和`pop()`，可以很容易的实现。"
   ]
  },
  {
   "cell_type": "code",
   "execution_count": 19,
   "metadata": {},
   "outputs": [],
   "source": [
    "stack = [3, 4, 5]"
   ]
  },
  {
   "cell_type": "code",
   "execution_count": 20,
   "metadata": {},
   "outputs": [
    {
     "data": {
      "text/plain": [
       "[3, 4, 5, 6, 7]"
      ]
     },
     "execution_count": 20,
     "metadata": {},
     "output_type": "execute_result"
    }
   ],
   "source": [
    "stack.append(6)\n",
    "stack.append(7)\n",
    "stack"
   ]
  },
  {
   "cell_type": "code",
   "execution_count": 21,
   "metadata": {},
   "outputs": [
    {
     "data": {
      "text/plain": [
       "[3, 4, 5, 6]"
      ]
     },
     "execution_count": 21,
     "metadata": {},
     "output_type": "execute_result"
    }
   ],
   "source": [
    "stack.pop()\n",
    "stack"
   ]
  },
  {
   "cell_type": "markdown",
   "metadata": {},
   "source": [
    "## 5.1.2 队列(别把List不当Queues)\n",
    "队列的特点**先进先出**，使用列表方法`append()和pop(0)`,也可以实现,但效率不高。\n",
    "\n",
    "推荐使用可以两头删、插的`collections.deque`。"
   ]
  },
  {
   "cell_type": "code",
   "execution_count": 24,
   "metadata": {},
   "outputs": [],
   "source": [
    "from collections import deque\n",
    "queue = deque(['Eric', 'John', 'Michael'])"
   ]
  },
  {
   "cell_type": "code",
   "execution_count": 26,
   "metadata": {},
   "outputs": [
    {
     "data": {
      "text/plain": [
       "deque(['Eric', 'John', 'Michael', 'Terry', 'Silly'])"
      ]
     },
     "execution_count": 26,
     "metadata": {},
     "output_type": "execute_result"
    }
   ],
   "source": [
    "queue.append('Terry')\n",
    "queue.append('Silly')\n",
    "queue"
   ]
  },
  {
   "cell_type": "code",
   "execution_count": 27,
   "metadata": {},
   "outputs": [
    {
     "data": {
      "text/plain": [
       "deque(['John', 'Michael', 'Terry', 'Silly'])"
      ]
     },
     "execution_count": 27,
     "metadata": {},
     "output_type": "execute_result"
    }
   ],
   "source": [
    "queue.popleft()\n",
    "queue"
   ]
  },
  {
   "cell_type": "code",
   "execution_count": 29,
   "metadata": {},
   "outputs": [
    {
     "data": {
      "text/plain": [
       "deque(['John', 'Michael', 'Terry'])"
      ]
     },
     "execution_count": 29,
     "metadata": {},
     "output_type": "execute_result"
    }
   ],
   "source": [
    "queue.pop()\n",
    "queue"
   ]
  },
  {
   "cell_type": "code",
   "execution_count": 1,
   "metadata": {},
   "outputs": [],
   "source": [
    "import collections\n",
    "# help(collections)"
   ]
  },
  {
   "cell_type": "markdown",
   "metadata": {},
   "source": [
    "## 5.1.3 列表生成式"
   ]
  },
  {
   "cell_type": "markdown",
   "metadata": {},
   "source": [
    "生成一个列表，有几种做法："
   ]
  },
  {
   "cell_type": "code",
   "execution_count": 34,
   "metadata": {},
   "outputs": [
    {
     "data": {
      "text/plain": [
       "[0, 1, 4, 9, 16, 25, 36, 49, 64, 81]"
      ]
     },
     "execution_count": 34,
     "metadata": {},
     "output_type": "execute_result"
    }
   ],
   "source": [
    "# 普通青年版\n",
    "squares1 = []\n",
    "for i in range(10):\n",
    "    squares1.append(i**2)\n",
    "\n",
    "squares1"
   ]
  },
  {
   "cell_type": "code",
   "execution_count": 36,
   "metadata": {},
   "outputs": [
    {
     "data": {
      "text/plain": [
       "[0, 1, 4, 9, 16, 25, 36, 49, 64, 81]"
      ]
     },
     "execution_count": 36,
     "metadata": {},
     "output_type": "execute_result"
    }
   ],
   "source": [
    "# 装B青年版\n",
    "squares2 = list(map(lambda i : i**2, range(10)))\n",
    "squares2"
   ]
  },
  {
   "cell_type": "code",
   "execution_count": 37,
   "metadata": {},
   "outputs": [
    {
     "data": {
      "text/plain": [
       "[0, 1, 4, 9, 16, 25, 36, 49, 64, 81]"
      ]
     },
     "execution_count": 37,
     "metadata": {},
     "output_type": "execute_result"
    }
   ],
   "source": [
    "# 文艺青年版\n",
    "squares = [i**2 for i in range(10)]\n",
    "squares"
   ]
  },
  {
   "cell_type": "markdown",
   "metadata": {},
   "source": [
    "列表生成式可以很优雅，也可以很复杂"
   ]
  },
  {
   "cell_type": "code",
   "execution_count": 41,
   "metadata": {},
   "outputs": [
    {
     "data": {
      "text/plain": [
       "['3.14', '3.1416', '3.141593', '3.14159265']"
      ]
     },
     "execution_count": 41,
     "metadata": {},
     "output_type": "execute_result"
    }
   ],
   "source": [
    "from math import pi\n",
    "[str(round(pi, i)) for i in range(1,10) if i%2 == 0]"
   ]
  },
  {
   "cell_type": "markdown",
   "metadata": {},
   "source": [
    "## 5.1.4 嵌套列表生成式"
   ]
  },
  {
   "cell_type": "code",
   "execution_count": 34,
   "metadata": {},
   "outputs": [],
   "source": [
    "matrix = [[1,2,3,4],[5,6,7,8],[9,10,11,12]]"
   ]
  },
  {
   "cell_type": "code",
   "execution_count": 35,
   "metadata": {},
   "outputs": [
    {
     "data": {
      "text/plain": [
       "[[1, 5, 9], [2, 6, 10], [3, 7, 11], [4, 8, 12]]"
      ]
     },
     "execution_count": 35,
     "metadata": {},
     "output_type": "execute_result"
    }
   ],
   "source": [
    "# 通常，如果想把一个3x4的矩阵（多维列表），转换成4x3，做法如下：\n",
    "matrix_out = []\n",
    "for i in range(4):\n",
    "    matrix_in = []\n",
    "    for row in matrix:\n",
    "        matrix_in.append(row[i])\n",
    "    matrix_out.append(matrix_in)\n",
    "matrix_out        "
   ]
  },
  {
   "cell_type": "code",
   "execution_count": 37,
   "metadata": {},
   "outputs": [
    {
     "data": {
      "text/plain": [
       "[[1, 5, 9], [2, 6, 10], [3, 7, 11], [4, 8, 12]]"
      ]
     },
     "execution_count": 37,
     "metadata": {},
     "output_type": "execute_result"
    }
   ],
   "source": [
    "# 如果使用嵌套列表生成式，可以很简洁。\n",
    "[[row[i] for row in matrix] for i in range(4)]"
   ]
  },
  {
   "cell_type": "markdown",
   "metadata": {},
   "source": [
    "但是Python里，更提倡使用内建方法(built-in function)."
   ]
  },
  {
   "cell_type": "code",
   "execution_count": 38,
   "metadata": {},
   "outputs": [
    {
     "data": {
      "text/plain": [
       "[(1, 5, 9), (2, 6, 10), (3, 7, 11), (4, 8, 12)]"
      ]
     },
     "execution_count": 38,
     "metadata": {},
     "output_type": "execute_result"
    }
   ],
   "source": [
    "list(zip(*matrix))"
   ]
  },
  {
   "cell_type": "markdown",
   "metadata": {},
   "source": [
    "# 5.2 del语句\n",
    "之前提到过，列表方法`list.pop([i])`根据给定索引，删除列表元素，并返回该值。\n",
    "\n",
    "与之不同，del语句可以根据给定索引，删除列表元素或直接删除整个列表对象，返回None.\n",
    "\n",
    "引用已经被删除的对象，会报错。"
   ]
  },
  {
   "cell_type": "code",
   "execution_count": 62,
   "metadata": {},
   "outputs": [],
   "source": [
    "a = [1,2,3,4,5,6,7]"
   ]
  },
  {
   "cell_type": "code",
   "execution_count": 63,
   "metadata": {},
   "outputs": [],
   "source": [
    "del a[1]"
   ]
  },
  {
   "cell_type": "code",
   "execution_count": 64,
   "metadata": {},
   "outputs": [],
   "source": [
    "del a"
   ]
  },
  {
   "cell_type": "code",
   "execution_count": 65,
   "metadata": {},
   "outputs": [
    {
     "ename": "NameError",
     "evalue": "name 'a' is not defined",
     "output_type": "error",
     "traceback": [
      "\u001b[1;31m---------------------------------------------------------------------------\u001b[0m",
      "\u001b[1;31mNameError\u001b[0m                                 Traceback (most recent call last)",
      "\u001b[1;32m<ipython-input-65-3f786850e387>\u001b[0m in \u001b[0;36m<module>\u001b[1;34m()\u001b[0m\n\u001b[1;32m----> 1\u001b[1;33m \u001b[0ma\u001b[0m\u001b[1;33m\u001b[0m\u001b[0m\n\u001b[0m",
      "\u001b[1;31mNameError\u001b[0m: name 'a' is not defined"
     ]
    }
   ],
   "source": [
    "a"
   ]
  },
  {
   "cell_type": "markdown",
   "metadata": {},
   "source": [
    "# 5.3 (元组)和序列\n",
    "之前提到的列表和字符串，有很多空性，比如索引、切片操作，因为它们都是序列数据类型。\n",
    "\n",
    "Python还有另外一种序列类型——元组。\n",
    "\n",
    "外表上看，(元组)和\\[列表\\]的区别是一个用圆括号(tuples)一个用方括号\\[list\\]，但更重要的区别是，**列表是可变对象，元组不可变**。"
   ]
  },
  {
   "cell_type": "markdown",
   "metadata": {},
   "source": [
    "**小明：**老师，我有个问题，那要是元组里面嵌套一个列表，这个元组是可变对象，还是不可变的？\n",
    "\n",
    "**老师：**你给我滚出去。"
   ]
  },
  {
   "cell_type": "code",
   "execution_count": 67,
   "metadata": {},
   "outputs": [
    {
     "name": "stdout",
     "output_type": "stream",
     "text": [
      "(1, 2, [3, 44, 5], 6)\n"
     ]
    }
   ],
   "source": [
    "# 元组嵌套列表，会不会让情况变得复杂？\n",
    "tp = (1,2,[3,4,5],6)\n",
    "tp[2][1] = 44\n",
    "print(tp)"
   ]
  },
  {
   "cell_type": "markdown",
   "metadata": {},
   "source": [
    "**需要特别指出的是，空元组或只有一个元素的元组。但写法比较特别。**"
   ]
  },
  {
   "cell_type": "code",
   "execution_count": 1,
   "metadata": {
    "scrolled": true
   },
   "outputs": [
    {
     "name": "stdout",
     "output_type": "stream",
     "text": [
      "<class 'tuple'> <class 'tuple'> <class 'int'>\n"
     ]
    }
   ],
   "source": [
    "# 只有一个元素的元组，元素后面有个逗号\n",
    "tp1 = ()\n",
    "integer = (1)\n",
    "tp2 = (1,)\n",
    "print(type(tp1),type(tp2),type(integer))"
   ]
  },
  {
   "cell_type": "markdown",
   "metadata": {},
   "source": [
    "关于用途或者使用场景，虽然元组和序列长得很像，但元组常包含一些异构的序列元素，通常用解包、索引的方式来访问，而列表元素通常是同构的，通常用迭代方式访问。"
   ]
  },
  {
   "cell_type": "code",
   "execution_count": 1,
   "metadata": {},
   "outputs": [
    {
     "name": "stdout",
     "output_type": "stream",
     "text": [
      "('1234', 'xyz', 'Python')\n",
      "1234 xyz Python\n"
     ]
    }
   ],
   "source": [
    "#关于tuple packing和tuple unpacking举个有趣的小例子。\n",
    "t = '1234', 'xyz', 'Python'\n",
    "print(t)\n",
    "x, y, z = t\n",
    "print(x, y, z)"
   ]
  },
  {
   "cell_type": "markdown",
   "metadata": {},
   "source": [
    "**多赋值** 多值赋值实际上就只是元组打包和序列解包的组合。"
   ]
  },
  {
   "cell_type": "markdown",
   "metadata": {},
   "source": [
    "# 5.4 {集合}"
   ]
  },
  {
   "cell_type": "markdown",
   "metadata": {},
   "source": [
    "集合作为一种用{sets}包裹的数据结构，其特点是元素无序且不重复。经常用来对数据进行去重。支持数学上的集合运算，如并|、交&、差-、对称差^。"
   ]
  },
  {
   "cell_type": "markdown",
   "metadata": {},
   "source": [
    "创建一个集合有两种方法：{sets}或者set(),但是，如果要创建一个空集合，只能使用set()。"
   ]
  },
  {
   "cell_type": "code",
   "execution_count": 6,
   "metadata": {},
   "outputs": [
    {
     "name": "stdout",
     "output_type": "stream",
     "text": [
      "False\n",
      "{1, 2, 'a'} {'e', 'n', 'd', 'c', 'b', 'a', '&'}\n",
      "<class 'dict'> {}\n"
     ]
    }
   ],
   "source": [
    "# 空的花括号，会创建一个空字典。\n",
    "sets1 = {1,1,2,2,'a','a'}\n",
    "sets2 = set('abcdedcba&banana')\n",
    "print('banana' in sets2)\n",
    "print(sets1, sets2)\n",
    "\n",
    "dic = {}\n",
    "print(type(dic), dic)"
   ]
  },
  {
   "cell_type": "code",
   "execution_count": 15,
   "metadata": {},
   "outputs": [
    {
     "data": {
      "text/plain": [
       "{1, 2}"
      ]
     },
     "execution_count": 15,
     "metadata": {},
     "output_type": "execute_result"
    }
   ],
   "source": [
    "sets1 - sets2   # A-B差集：只存在于A"
   ]
  },
  {
   "cell_type": "code",
   "execution_count": 16,
   "metadata": {},
   "outputs": [
    {
     "data": {
      "text/plain": [
       "{'&', 'b', 'c', 'd', 'e', 'n'}"
      ]
     },
     "execution_count": 16,
     "metadata": {},
     "output_type": "execute_result"
    }
   ],
   "source": [
    "sets2 - sets1   # B-A差集：只存在于B"
   ]
  },
  {
   "cell_type": "code",
   "execution_count": 12,
   "metadata": {},
   "outputs": [
    {
     "data": {
      "text/plain": [
       "{'&', 1, 2, 'a', 'b', 'c', 'd', 'e', 'n'}"
      ]
     },
     "execution_count": 12,
     "metadata": {},
     "output_type": "execute_result"
    }
   ],
   "source": [
    "sets1 | sets2    # 并集：合并"
   ]
  },
  {
   "cell_type": "code",
   "execution_count": 13,
   "metadata": {},
   "outputs": [
    {
     "data": {
      "text/plain": [
       "{'a'}"
      ]
     },
     "execution_count": 13,
     "metadata": {},
     "output_type": "execute_result"
    }
   ],
   "source": [
    "sets1 & sets2    # 交集：相交"
   ]
  },
  {
   "cell_type": "code",
   "execution_count": 14,
   "metadata": {},
   "outputs": [
    {
     "data": {
      "text/plain": [
       "{'&', 1, 2, 'b', 'c', 'd', 'e', 'n'}"
      ]
     },
     "execution_count": 14,
     "metadata": {},
     "output_type": "execute_result"
    }
   ],
   "source": [
    "sets1 ^ sets2    # 对称差: 你有，或者我有，但是不能同时有"
   ]
  },
  {
   "cell_type": "markdown",
   "metadata": {},
   "source": [
    "**最后，Phthon也支持集合生成式**"
   ]
  },
  {
   "cell_type": "code",
   "execution_count": 17,
   "metadata": {},
   "outputs": [
    {
     "name": "stdout",
     "output_type": "stream",
     "text": [
      "{'r', 'd'}\n"
     ]
    }
   ],
   "source": [
    "a = {x for x in 'abracadabra' if x not in 'abc'}\n",
    "print(a)"
   ]
  },
  {
   "cell_type": "markdown",
   "metadata": {},
   "source": [
    "# 5.5 {'字':'典'｝"
   ]
  },
  {
   "cell_type": "markdown",
   "metadata": {},
   "source": [
    "花括号包住的**键值对**，是字典的常见形象。key是索引，必须唯一，value是值(废话)。\n",
    "\n",
    "任何不可变对象都可以作为字典的key，数字、字符串或者元组(不可变对象时)都常作为字典的键来使用。"
   ]
  },
  {
   "cell_type": "markdown",
   "metadata": {},
   "source": [
    "通常使用key来操作字典的value，使用不存在的key，会报错。"
   ]
  },
  {
   "cell_type": "code",
   "execution_count": 18,
   "metadata": {},
   "outputs": [],
   "source": [
    "tel = {'jack':4016, 'john':4255, 'jason':4111}"
   ]
  },
  {
   "cell_type": "code",
   "execution_count": 19,
   "metadata": {},
   "outputs": [],
   "source": [
    "tel['john'] = 4000"
   ]
  },
  {
   "cell_type": "code",
   "execution_count": 20,
   "metadata": {},
   "outputs": [],
   "source": [
    "del tel['jason']"
   ]
  },
  {
   "cell_type": "code",
   "execution_count": 21,
   "metadata": {},
   "outputs": [
    {
     "ename": "KeyError",
     "evalue": "'jason'",
     "output_type": "error",
     "traceback": [
      "\u001b[1;31m---------------------------------------------------------------------------\u001b[0m",
      "\u001b[1;31mKeyError\u001b[0m                                  Traceback (most recent call last)",
      "\u001b[1;32m<ipython-input-21-703f52cd4477>\u001b[0m in \u001b[0;36m<module>\u001b[1;34m()\u001b[0m\n\u001b[1;32m----> 1\u001b[1;33m \u001b[0mtel\u001b[0m\u001b[1;33m[\u001b[0m\u001b[1;34m'jason'\u001b[0m\u001b[1;33m]\u001b[0m\u001b[1;33m\u001b[0m\u001b[0m\n\u001b[0m",
      "\u001b[1;31mKeyError\u001b[0m: 'jason'"
     ]
    }
   ],
   "source": [
    "tel['jason']"
   ]
  },
  {
   "cell_type": "code",
   "execution_count": 22,
   "metadata": {},
   "outputs": [
    {
     "data": {
      "text/plain": [
       "False"
      ]
     },
     "execution_count": 22,
     "metadata": {},
     "output_type": "execute_result"
    }
   ],
   "source": [
    "'guido' in tel"
   ]
  },
  {
   "cell_type": "code",
   "execution_count": 23,
   "metadata": {},
   "outputs": [
    {
     "data": {
      "text/plain": [
       "['jack', 'john']"
      ]
     },
     "execution_count": 23,
     "metadata": {},
     "output_type": "execute_result"
    }
   ],
   "source": [
    "list(tel)"
   ]
  },
  {
   "cell_type": "code",
   "execution_count": 24,
   "metadata": {},
   "outputs": [
    {
     "data": {
      "text/plain": [
       "{'jack': 4016, 'john': 4000}"
      ]
     },
     "execution_count": 24,
     "metadata": {},
     "output_type": "execute_result"
    }
   ],
   "source": [
    "tel"
   ]
  },
  {
   "cell_type": "markdown",
   "metadata": {},
   "source": [
    "除了使用{dict}方式来创建字典或空字典{},还可以使用dict()."
   ]
  },
  {
   "cell_type": "code",
   "execution_count": 25,
   "metadata": {},
   "outputs": [
    {
     "data": {
      "text/plain": [
       "{'alice': 3, 'jojo': 1, 'winne': 2}"
      ]
     },
     "execution_count": 25,
     "metadata": {},
     "output_type": "execute_result"
    }
   ],
   "source": [
    "dict([('jojo',1),('winne',2),('alice',3)])"
   ]
  },
  {
   "cell_type": "code",
   "execution_count": 26,
   "metadata": {},
   "outputs": [
    {
     "data": {
      "text/plain": [
       "{'guido': 4127, 'jack': 4098, 'sape': 4139}"
      ]
     },
     "execution_count": 26,
     "metadata": {},
     "output_type": "execute_result"
    }
   ],
   "source": [
    "dict(sape=4139, guido=4127, jack=4098)"
   ]
  },
  {
   "cell_type": "markdown",
   "metadata": {},
   "source": [
    "虽然Python也支持字典生成式，但好像没并有多大卵用。"
   ]
  },
  {
   "cell_type": "code",
   "execution_count": 27,
   "metadata": {},
   "outputs": [
    {
     "data": {
      "text/plain": [
       "{2: 4, 4: 16, 6: 36}"
      ]
     },
     "execution_count": 27,
     "metadata": {},
     "output_type": "execute_result"
    }
   ],
   "source": [
    "{x: x**2 for x in (2, 4, 6)}"
   ]
  },
  {
   "cell_type": "markdown",
   "metadata": {},
   "source": [
    "# 5.6 循环"
   ]
  },
  {
   "cell_type": "markdown",
   "metadata": {},
   "source": [
    "使用**items()**方法，可以在遍历**字典**时，同时读取关键字和与之相对应的值。"
   ]
  },
  {
   "cell_type": "code",
   "execution_count": 4,
   "metadata": {},
   "outputs": [],
   "source": [
    "dic1 = {x : x**3 for x in range(5)}"
   ]
  },
  {
   "cell_type": "code",
   "execution_count": 5,
   "metadata": {},
   "outputs": [
    {
     "name": "stdout",
     "output_type": "stream",
     "text": [
      "0 0\n",
      "1 1\n",
      "2 8\n",
      "3 27\n",
      "4 64\n"
     ]
    }
   ],
   "source": [
    "for k,v in dic1.items():\n",
    "    print(k, v)"
   ]
  },
  {
   "cell_type": "markdown",
   "metadata": {},
   "source": [
    "使用**enumerate()**函数，可以在遍历**序列**时，同时读取位置索引和与之相对应的值。"
   ]
  },
  {
   "cell_type": "code",
   "execution_count": 21,
   "metadata": {},
   "outputs": [],
   "source": [
    "list1 = [i for i in range(5,12)]"
   ]
  },
  {
   "cell_type": "code",
   "execution_count": 22,
   "metadata": {},
   "outputs": [
    {
     "name": "stdout",
     "output_type": "stream",
     "text": [
      "0 : 5\n",
      "1 : 6\n",
      "2 : 7\n",
      "3 : 8\n",
      "4 : 9\n",
      "5 : 10\n",
      "6 : 11\n"
     ]
    }
   ],
   "source": [
    "for i,v in enumerate(list1):\n",
    "    print(i, ':' ,v)"
   ]
  },
  {
   "cell_type": "markdown",
   "metadata": {},
   "source": [
    "**Notice:** **enumerate()**函数是Python系统函数，不是对象方法，所以别这样使用：list.enumerate()，会报错的。\n",
    "\n",
    "虽然函数和方法并没什么本质区别 ^_^"
   ]
  },
  {
   "cell_type": "markdown",
   "metadata": {},
   "source": [
    "使用**zip()**方法，可以同时**遍历并组合**两个或多个**序列**。"
   ]
  },
  {
   "cell_type": "code",
   "execution_count": 23,
   "metadata": {},
   "outputs": [
    {
     "name": "stdout",
     "output_type": "stream",
     "text": [
      "jack Ma\n",
      "bruce Lee\n",
      "jianlin Wang\n"
     ]
    }
   ],
   "source": [
    "firstname = ['jack', 'bruce', 'jianlin']\n",
    "lastname = ['Ma', 'Lee', 'Wang']\n",
    "for x, y in zip(firstname, lastname):\n",
    "    print(x,y)"
   ]
  },
  {
   "cell_type": "markdown",
   "metadata": {},
   "source": [
    "使用**reversed()**函数，可以逆序一个序列。"
   ]
  },
  {
   "cell_type": "code",
   "execution_count": 24,
   "metadata": {},
   "outputs": [
    {
     "name": "stdout",
     "output_type": "stream",
     "text": [
      "16\n",
      "14\n",
      "12\n",
      "10\n",
      "8\n",
      "6\n",
      "4\n",
      "2\n"
     ]
    }
   ],
   "source": [
    "for i in reversed(range(2,18,2)):\n",
    "    print(i)"
   ]
  },
  {
   "cell_type": "markdown",
   "metadata": {},
   "source": [
    "使用**sorted()**函数，可以对一个序列进行排序，返回值为排序后的序列，但原序列并不会改变。"
   ]
  },
  {
   "cell_type": "code",
   "execution_count": 25,
   "metadata": {},
   "outputs": [],
   "source": [
    "basket = ['apple', 'pear', 'apple', 'applepie','orange']"
   ]
  },
  {
   "cell_type": "code",
   "execution_count": 31,
   "metadata": {},
   "outputs": [
    {
     "name": "stdout",
     "output_type": "stream",
     "text": [
      "apple\n",
      "applepie\n",
      "orange\n",
      "pear\n"
     ]
    }
   ],
   "source": [
    "# 考虑一下，为什么我在这里没有直接使用  for i in sorted(basket)\n",
    "for i in sorted(set(basket)):\n",
    "    print(i)"
   ]
  },
  {
   "cell_type": "markdown",
   "metadata": {},
   "source": [
    "We suguest you to create a new list instead of change a list."
   ]
  },
  {
   "cell_type": "markdown",
   "metadata": {},
   "source": [
    "# 5.7 More on Conditions"
   ]
  },
  {
   "cell_type": "markdown",
   "metadata": {},
   "source": [
    "`while`和`if`语句中的条件，可以是任何操作，不单单只是比较运算。\n",
    "\n",
    "比较运算符`in`和`not in`会检查指定值是否存在于一个序列。\n",
    "\n",
    "运算符`is`和`is not`会比较两个对象，是不是同一个对象，这只对可变对象比如list来说是重要的。\n",
    "\n",
    "所有的比较运算符具有相同的优先级，且都比算数运算符优先级低。"
   ]
  },
  {
   "cell_type": "markdown",
   "metadata": {},
   "source": [
    "多个比较语句可以被链接起来，比如：`a < b == c`语句检查是否`a`小于`b`，同时`b`等于`c`。"
   ]
  },
  {
   "cell_type": "markdown",
   "metadata": {},
   "source": [
    "比较还可以与布尔运算`and`和`or`联合使用，其结果可能是`not`否定。\n",
    "\n",
    "布尔运算符的优先级比比较运算符低，同时优先级`not`高于`and`高于`or`。\n",
    "\n",
    "比如`a and not b or c`就等同于`(a and (not b)) or c`。"
   ]
  },
  {
   "cell_type": "markdown",
   "metadata": {},
   "source": [
    "布尔运算符`and`和`or`是一种**短路运算符**：其参数从左到右进行评估，一旦结果确定，计算就停止。\n",
    "\n",
    "例如，如果A和C为true，但B为false，则A、B和C不计算表达式C。当用作通用值而不是布尔值时，短路运算符的返回值是最后求值的参数。\n",
    "\n",
    "可以将比较或其他布尔表达式的结果赋值给变量。"
   ]
  },
  {
   "cell_type": "code",
   "execution_count": 1,
   "metadata": {},
   "outputs": [
    {
     "data": {
      "text/plain": [
       "'Trondheim'"
      ]
     },
     "execution_count": 1,
     "metadata": {},
     "output_type": "execute_result"
    }
   ],
   "source": [
    "string1, string2, string3 = '', 'Trondheim', 'Hammer Dance'\n",
    "non_null = string1 or string2 or string3\n",
    "non_null"
   ]
  },
  {
   "cell_type": "markdown",
   "metadata": {},
   "source": [
    "另外，与C不同的是，在Python中，不能在表达式中进行赋值。"
   ]
  },
  {
   "cell_type": "markdown",
   "metadata": {},
   "source": [
    "# 5.8 比较序列和其他数据类型"
   ]
  },
  {
   "cell_type": "markdown",
   "metadata": {},
   "source": [
    "序列对象可以与具有相同序列类型的其他对象进行比较。\n",
    "\n",
    "比较使用字典顺序：首先对前两项进行比较，如果它们不同，这将决定比较的结果；如果它们相等，则接下来的两项进行比较，以此类推，直到两个序列都用完为止。\n",
    "\n",
    "如果要比较的两个项目本身是同一类型的序列，则递归地进行字典比较。\n",
    "\n",
    "如果两个序列的所有项比较相等，则认为序列相等。\n",
    "\n",
    "如果一个序列是另一个序列的初始子序列，那么较短的序列就是较小的(较小的)序列。\n",
    "\n",
    "字符串的字典排序使用Unicode代码点号对单个字符进行排序。"
   ]
  },
  {
   "cell_type": "code",
   "execution_count": null,
   "metadata": {},
   "outputs": [],
   "source": []
  },
  {
   "cell_type": "markdown",
   "metadata": {},
   "source": [
    "请注意，如果对象具有适当的比较方法，则将不同类型的对象与`<`或`>`进行比较是合法的。\n",
    "\n",
    "例如，混合数字类型根据其数值进行比较，因此0等于0.0，等等。否则，解释器将引发TypeError异常，而不是提供任意排序。"
   ]
  }
 ],
 "metadata": {
  "kernelspec": {
   "display_name": "Python 3",
   "language": "python",
   "name": "python3"
  },
  "language_info": {
   "codemirror_mode": {
    "name": "ipython",
    "version": 3
   },
   "file_extension": ".py",
   "mimetype": "text/x-python",
   "name": "python",
   "nbconvert_exporter": "python",
   "pygments_lexer": "ipython3",
   "version": "3.6.4"
  }
 },
 "nbformat": 4,
 "nbformat_minor": 2
}
