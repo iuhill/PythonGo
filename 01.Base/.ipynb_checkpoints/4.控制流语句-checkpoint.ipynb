{
 "cells": [
  {
   "cell_type": "markdown",
   "metadata": {},
   "source": [
    "# 4.1 if语句"
   ]
  },
  {
   "cell_type": "markdown",
   "metadata": {},
   "source": [
    "接触过C或其他高级语言的人，对`if语句``while语句``for语句`，多少都应该有一些了解。但在Python里，他们还是有些不同。\n",
    "\n",
    "比如：if语句后，可以跟elif，可以跟else语句，当然也可以啥也不跟。\n",
    "\n",
    "`if...elif...elif...`是对`switch...case...case...`语句的替换，因为python没有`switch...case...`。"
   ]
  },
  {
   "cell_type": "code",
   "execution_count": 8,
   "metadata": {},
   "outputs": [],
   "source": [
    "# 取绝对值\n",
    "def absolute():\n",
    "    n = int(input('请输入一个整数：'))\n",
    "    if n > 0:\n",
    "        pass\n",
    "    elif n == 0:\n",
    "        pass\n",
    "    elif n < 0:\n",
    "        n = -n\n",
    "    else:\n",
    "        print('Are you kidding me?')\n",
    "    print('输入数的绝对值为：',n)"
   ]
  },
  {
   "cell_type": "code",
   "execution_count": 9,
   "metadata": {
    "scrolled": true
   },
   "outputs": [
    {
     "name": "stdout",
     "output_type": "stream",
     "text": [
      "请输入一个整数：-9\n",
      "输入数的绝对值为： 9\n"
     ]
    }
   ],
   "source": [
    "absolute()"
   ]
  },
  {
   "cell_type": "markdown",
   "metadata": {},
   "source": [
    "# 4.2 for语句"
   ]
  },
  {
   "cell_type": "markdown",
   "metadata": {},
   "source": [
    "Python的`for语句`用来迭代任何可迭代对象的内容，比如：序列，列表和字符串都是序列。"
   ]
  },
  {
   "cell_type": "code",
   "execution_count": 12,
   "metadata": {},
   "outputs": [
    {
     "name": "stdout",
     "output_type": "stream",
     "text": [
      "<class 'list'>\n",
      "\n",
      "/home/bb-9/PycharmProjects/PythonGo/01.Base\n",
      "/home/bb-9/anaconda3/lib/python37.zip\n",
      "/home/bb-9/anaconda3/lib/python3.7\n",
      "/home/bb-9/anaconda3/lib/python3.7/lib-dynload\n",
      "/home/bb-9/anaconda3/lib/python3.7/site-packages\n",
      "/home/bb-9/anaconda3/lib/python3.7/site-packages/IPython/extensions\n",
      "/home/bb-9/.ipython\n"
     ]
    }
   ],
   "source": [
    "import sys\n",
    "print(type(sys.path))\n",
    "for p in sys.path:\n",
    "    print(p)"
   ]
  },
  {
   "cell_type": "markdown",
   "metadata": {},
   "source": [
    "**提醒一句**如果想修改你正在迭代的序列，**先copy一份**，免得追悔莫及。\n",
    "\n",
    "对序列进行迭代并不会隐式地复制。"
   ]
  },
  {
   "cell_type": "markdown",
   "metadata": {},
   "source": [
    "# 4.3 range()函数"
   ]
  },
  {
   "cell_type": "markdown",
   "metadata": {},
   "source": [
    "使用`range()函数`可以非常方便的生成一个数字序列。"
   ]
  },
  {
   "cell_type": "code",
   "execution_count": 17,
   "metadata": {},
   "outputs": [
    {
     "name": "stdout",
     "output_type": "stream",
     "text": [
      "[-10, -8, -6, -4, -2, 0, 2, 4, 6, 8]\n"
     ]
    }
   ],
   "source": [
    "#range函数的用法，使用help(range)查看\n",
    "li = [i for i in range(-10, 10, 2)] #range的第一和第二个参数规定了要生成序列的范围，第三个是步进\n",
    "print(li)"
   ]
  },
  {
   "cell_type": "markdown",
   "metadata": {},
   "source": [
    "`range()`函数的返回值，是一个可迭代对象，因此，当你试图打印它时，就会显得很奇怪。"
   ]
  },
  {
   "cell_type": "code",
   "execution_count": 20,
   "metadata": {},
   "outputs": [
    {
     "name": "stdout",
     "output_type": "stream",
     "text": [
      "range(0, 10)\n"
     ]
    }
   ],
   "source": [
    "print(range(10))"
   ]
  },
  {
   "cell_type": "code",
   "execution_count": 21,
   "metadata": {},
   "outputs": [
    {
     "name": "stdout",
     "output_type": "stream",
     "text": [
      "<enumerate object at 0x7f6598daa7e0>\n"
     ]
    }
   ],
   "source": [
    "print(enumerate(li))"
   ]
  },
  {
   "cell_type": "markdown",
   "metadata": {},
   "source": [
    "# 4.4 break和continue语句，以及else"
   ]
  },
  {
   "cell_type": "code",
   "execution_count": null,
   "metadata": {},
   "outputs": [],
   "source": []
  },
  {
   "cell_type": "markdown",
   "metadata": {},
   "source": [
    "# 4.5 pass语句"
   ]
  },
  {
   "cell_type": "code",
   "execution_count": null,
   "metadata": {},
   "outputs": [],
   "source": []
  },
  {
   "cell_type": "markdown",
   "metadata": {},
   "source": [
    "# 4.6 定义函数"
   ]
  },
  {
   "cell_type": "code",
   "execution_count": null,
   "metadata": {},
   "outputs": [],
   "source": []
  },
  {
   "cell_type": "markdown",
   "metadata": {},
   "source": [
    "# 4.7 函数参数"
   ]
  },
  {
   "cell_type": "code",
   "execution_count": null,
   "metadata": {},
   "outputs": [],
   "source": []
  },
  {
   "cell_type": "markdown",
   "metadata": {},
   "source": [
    "# 4.8 MORE"
   ]
  },
  {
   "cell_type": "code",
   "execution_count": null,
   "metadata": {},
   "outputs": [],
   "source": []
  }
 ],
 "metadata": {
  "kernelspec": {
   "display_name": "Python 3",
   "language": "python",
   "name": "python3"
  },
  "language_info": {
   "codemirror_mode": {
    "name": "ipython",
    "version": 3
   },
   "file_extension": ".py",
   "mimetype": "text/x-python",
   "name": "python",
   "nbconvert_exporter": "python",
   "pygments_lexer": "ipython3",
   "version": "3.7.0"
  }
 },
 "nbformat": 4,
 "nbformat_minor": 2
}
