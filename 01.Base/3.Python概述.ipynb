{
 "cells": [
  {
   "cell_type": "markdown",
   "metadata": {},
   "source": [
    ">注意1：交互模式下，通过有无`>>>`或`...`提示符来判断输入行还是输出行，输出行没有。\n",
    "\n",
    ">注意2：注释行，使用#号开头，解释器会略过此行。注释纯粹是给人看的，要写人话。\n",
    "\n",
    ">注意3：图方便，我安装了Anaconda + Jupyter notebook。大多数命令都是在Jupyter notebook中直接运行，因此可能看不到提示符。"
   ]
  },
  {
   "cell_type": "markdown",
   "metadata": {},
   "source": [
    "# 3.1 别拿Python不当计算器"
   ]
  },
  {
   "cell_type": "markdown",
   "metadata": {},
   "source": [
    "作为一个简单计算器，用来做加+ 减- 乘* 除/，简直样样精通。"
   ]
  },
  {
   "cell_type": "markdown",
   "metadata": {},
   "source": [
    "## 3.1.1 数值计算\n",
    "比较简单，举几个例子，理解一下算了"
   ]
  },
  {
   "cell_type": "code",
   "execution_count": 1,
   "metadata": {},
   "outputs": [
    {
     "data": {
      "text/plain": [
       "-1.166666666666667"
      ]
     },
     "execution_count": 1,
     "metadata": {},
     "output_type": "execute_result"
    }
   ],
   "source": [
    "# 算数的优先级和小学简直是一个配方\n",
    "(3 + 4) * 5 / 6 - 7"
   ]
  },
  {
   "cell_type": "code",
   "execution_count": 2,
   "metadata": {},
   "outputs": [
    {
     "data": {
      "text/plain": [
       "6"
      ]
     },
     "execution_count": 2,
     "metadata": {},
     "output_type": "execute_result"
    }
   ],
   "source": [
    "# 来个有点难度的\n",
    "3 ** 3 // 4"
   ]
  },
  {
   "cell_type": "code",
   "execution_count": 5,
   "metadata": {},
   "outputs": [
    {
     "data": {
      "text/plain": [
       "2"
      ]
     },
     "execution_count": 5,
     "metadata": {},
     "output_type": "execute_result"
    }
   ],
   "source": [
    "# 还要取余\n",
    "8 % 3"
   ]
  },
  {
   "cell_type": "code",
   "execution_count": 11,
   "metadata": {},
   "outputs": [
    {
     "name": "stdout",
     "output_type": "stream",
     "text": [
      "0.9099999999999999\n",
      "------i am seperation line------ \n"
     ]
    },
    {
     "ename": "NameError",
     "evalue": "name 'i' is not defined",
     "output_type": "error",
     "traceback": [
      "\u001b[1;31m---------------------------------------------------------------------------\u001b[0m",
      "\u001b[1;31mNameError\u001b[0m                                 Traceback (most recent call last)",
      "\u001b[1;32m<ipython-input-11-dcc6877d0a41>\u001b[0m in \u001b[0;36m<module>\u001b[1;34m()\u001b[0m\n\u001b[0;32m      4\u001b[0m \u001b[0mprint\u001b[0m\u001b[1;33m(\u001b[0m\u001b[0mn\u001b[0m\u001b[1;33m/\u001b[0m\u001b[0mm\u001b[0m\u001b[1;33m)\u001b[0m\u001b[1;33m\u001b[0m\u001b[0m\n\u001b[0;32m      5\u001b[0m \u001b[0mprint\u001b[0m\u001b[1;33m(\u001b[0m\u001b[1;34m'------i am seperation line------ '\u001b[0m\u001b[1;33m)\u001b[0m\u001b[1;33m\u001b[0m\u001b[0m\n\u001b[1;32m----> 6\u001b[1;33m \u001b[0mprint\u001b[0m\u001b[1;33m(\u001b[0m\u001b[0mi\u001b[0m\u001b[1;33m)\u001b[0m\u001b[1;33m\u001b[0m\u001b[0m\n\u001b[0m",
      "\u001b[1;31mNameError\u001b[0m: name 'i' is not defined"
     ]
    }
   ],
   "source": [
    "#变量在使用前要先定义，要不会报错\n",
    "#下面的例子，也同时说明解释器是读一行代码，执行一行，再读下一行\n",
    "n, m= 9.1, 10\n",
    "print(n/m)\n",
    "print('------i am seperation line------ ')\n",
    "print(i)"
   ]
  },
  {
   "cell_type": "code",
   "execution_count": 17,
   "metadata": {},
   "outputs": [
    {
     "name": "stdout",
     "output_type": "stream",
     "text": [
      "2\n"
     ]
    }
   ],
   "source": [
    "#谁能解释一下，print里面的_是个啥？\n",
    "print(_)  # 好像是用来存储上一次计算结果的，如果上次计算没有指定变量的话"
   ]
  },
  {
   "cell_type": "markdown",
   "metadata": {},
   "source": [
    "## 3.1.2 字符串运算\n",
    "字符串需要用引号引起来，单引号`'blablabla'`、双引号`\"blablabla\"`甚至三引号`'''blablabla''`、`\"\"\"blablabla\"\"\"`都行。\n",
    "\n",
    "当然了，要是能组合使用，事半功倍。"
   ]
  },
  {
   "cell_type": "code",
   "execution_count": 26,
   "metadata": {},
   "outputs": [
    {
     "name": "stdout",
     "output_type": "stream",
     "text": [
      "hello, i'am Python.\n"
     ]
    }
   ],
   "source": [
    "print(\"hello, i'am Python.\")"
   ]
  },
  {
   "cell_type": "markdown",
   "metadata": {},
   "source": [
    "当然了，你非要使用转移字符，我也不拦着你"
   ]
  },
  {
   "cell_type": "code",
   "execution_count": 27,
   "metadata": {},
   "outputs": [
    {
     "name": "stdout",
     "output_type": "stream",
     "text": [
      "hello, it's me again.\n"
     ]
    }
   ],
   "source": [
    "print('hello, it\\'s me again.')"
   ]
  },
  {
   "cell_type": "markdown",
   "metadata": {},
   "source": [
    "另外，有些场景，在字符串前面加一个r，使用裸字符串更方便"
   ]
  },
  {
   "cell_type": "code",
   "execution_count": 29,
   "metadata": {},
   "outputs": [
    {
     "name": "stdout",
     "output_type": "stream",
     "text": [
      "C:\\program file\\application\n"
     ]
    }
   ],
   "source": [
    "print(r'C:\\program file\\application')"
   ]
  },
  {
   "cell_type": "markdown",
   "metadata": {},
   "source": [
    "字符串连接和重复"
   ]
  },
  {
   "cell_type": "code",
   "execution_count": 23,
   "metadata": {},
   "outputs": [
    {
     "name": "stdout",
     "output_type": "stream",
     "text": [
      "Python\n",
      "blablabla\n",
      "Come on\n"
     ]
    }
   ],
   "source": [
    "end = 'thon'\n",
    "print('Py'+ end)\n",
    "print('bla' * 3)\n",
    "#相邻的字符串，自动连接\n",
    "print('Come ' 'on')"
   ]
  },
  {
   "cell_type": "markdown",
   "metadata": {},
   "source": [
    "字符串索引和切片"
   ]
  },
  {
   "cell_type": "code",
   "execution_count": 35,
   "metadata": {},
   "outputs": [
    {
     "name": "stdout",
     "output_type": "stream",
     "text": [
      "w!\n",
      "字符串切片，还是字符串，可以连接，也可以再切片\n",
      "P\n"
     ]
    }
   ],
   "source": [
    "word = 'where is Python!'\n",
    "print(word[0] + word[-1])\n",
    "print('字符串切片，还是字符串，可以连接，也可以再切片')\n",
    "print(word[9:][0])"
   ]
  }
 ],
 "metadata": {
  "kernelspec": {
   "display_name": "Python 3",
   "language": "python",
   "name": "python3"
  },
  "language_info": {
   "codemirror_mode": {
    "name": "ipython",
    "version": 3
   },
   "file_extension": ".py",
   "mimetype": "text/x-python",
   "name": "python",
   "nbconvert_exporter": "python",
   "pygments_lexer": "ipython3",
   "version": "3.6.4"
  }
 },
 "nbformat": 4,
 "nbformat_minor": 2
}
