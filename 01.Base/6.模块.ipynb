{
 "cells": [
  {
   "cell_type": "markdown",
   "metadata": {},
   "source": [
    "Python解释器，如果退出在进入，你之前在解释器内定义的函数、变量就会丢失。因此，如果要码一个可以长久使用，至少多次使用的程序的话，最好使用一个文本编辑器编辑代码并保存代码文件，作为解释器的输入。\n",
    "\n",
    "这是Python被人说是脚本语言的原因。\n",
    "\n",
    "长远考虑，为了维护方便，你可以把代码拆分成多个文件保存。并且，灵光一闪，你又想到了函数复用，一次定义，多处使用。而不是到处复制函数定义，很low的好吗？"
   ]
  },
  {
   "cell_type": "markdown",
   "metadata": {},
   "source": [
    "噹，今天的主角——模块登场了。为了解决上面你灵光一闪想到的问题，Python建立了一种方法：把定义放在一个文件里，然后在脚本或交互式的解释器实例中使用。这个文件就叫模块；模块里的定义可以被导入到其他的模块或main模块（在top级别和计算模式下执行的脚本中可以访问的变量集合）"
   ]
  },
  {
   "cell_type": "markdown",
   "metadata": {},
   "source": [
    "模块就是一个包含了Python定义和语句的文件。文件名就是`模块名`+`.py`后缀。在模块内，模块名（作为字符串）可以作为全局变量`__name__`的值。"
   ]
  },
  {
   "cell_type": "markdown",
   "metadata": {},
   "source": [
    "举个🌰，你可以在当前文件件，用你最擅长的文本编辑器创建一个文件，文件名就叫`fibo.py`，文件内容如下："
   ]
  },
  {
   "cell_type": "code",
   "execution_count": 1,
   "metadata": {},
   "outputs": [],
   "source": [
    "# Fibonacci numbers module\n",
    "\n",
    "def fib(n):    # write Fibonacci series up to n\n",
    "    a, b = 0, 1\n",
    "    while a < n:\n",
    "        print(a, end=' ')\n",
    "        a, b = b, a+b\n",
    "    print()\n",
    "\n",
    "def fib2(n):   # return Fibonacci series up to n\n",
    "    result = []\n",
    "    a, b = 0, 1\n",
    "    while a < n:\n",
    "        result.append(a)\n",
    "        a, b = b, a+b\n",
    "    return result"
   ]
  },
  {
   "cell_type": "markdown",
   "metadata": {},
   "source": [
    "然后，在Python解释器中导入你的模块，使用import语句`import fibo`。\n",
    "导入模块的操作并不会直接在当前符号表中输入`fibo.py`中定义的函数名称，而只是输入模块名。\n",
    "但利用模块名，你可以访问模块中的函数。"
   ]
  },
  {
   "cell_type": "code",
   "execution_count": 4,
   "metadata": {},
   "outputs": [],
   "source": [
    "# 模块名.函数名(参数)\n",
    "# fibo.fib(1000)\n",
    "# fibo.__name__"
   ]
  },
  {
   "cell_type": "markdown",
   "metadata": {},
   "source": [
    "# 6.1 补充知识"
   ]
  },
  {
   "cell_type": "markdown",
   "metadata": {},
   "source": [
    "模块可以包含可执行语句和函数定义。这些可以执行语句是为了初始化模块，仅在第一次导入模块时执行。\n",
    "\n",
    "每个模块都有专业符号表，作为在这个模块内定义的所有函数的全局符号表。因此，模块作者可以在模块内使用全局变量，而不用担心和用户全局变量冲突。\n",
    "\n",
    "当然，如果需要，你可以通过`modname.itemname`的方式，引用一个模块的全局变量。\n",
    "\n",
    "一个模块可以导入其他模块。把导入模块的`import`语句放置在模块（或者脚本）的最开始，只是一个惯例，并不是强制要求。被导入的模块名将会被放在导入模块的全局符号表。"
   ]
  },
  {
   "cell_type": "markdown",
   "metadata": {},
   "source": [
    "有一种`import`语句写法，可以把一个模块内的变量或函数名直接导入到另一个模块的符号表。"
   ]
  },
  {
   "cell_type": "code",
   "execution_count": 6,
   "metadata": {},
   "outputs": [],
   "source": [
    "# form fibo import fib, fib2\n",
    "# fib(500)"
   ]
  },
  {
   "cell_type": "code",
   "execution_count": null,
   "metadata": {},
   "outputs": [],
   "source": []
  },
  {
   "cell_type": "code",
   "execution_count": null,
   "metadata": {},
   "outputs": [],
   "source": []
  }
 ],
 "metadata": {
  "kernelspec": {
   "display_name": "Python 3",
   "language": "python",
   "name": "python3"
  },
  "language_info": {
   "codemirror_mode": {
    "name": "ipython",
    "version": 3
   },
   "file_extension": ".py",
   "mimetype": "text/x-python",
   "name": "python",
   "nbconvert_exporter": "python",
   "pygments_lexer": "ipython3",
   "version": "3.6.4"
  }
 },
 "nbformat": 4,
 "nbformat_minor": 2
}
